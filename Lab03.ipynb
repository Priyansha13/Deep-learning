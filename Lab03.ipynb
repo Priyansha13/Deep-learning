{
 "cells": [
  {
   "cell_type": "code",
   "execution_count": 14,
   "id": "c9e84ca3",
   "metadata": {},
   "outputs": [],
   "source": [
    "import numpy as np\n",
    "import matplotlib.pyplot as plt"
   ]
  },
  {
   "cell_type": "code",
   "execution_count": 3,
   "id": "3d3a53d9",
   "metadata": {},
   "outputs": [],
   "source": [
    "def revenue(x):\n",
    "    return 0.5 * x**2 - 30*x + 100"
   ]
  },
  {
   "cell_type": "code",
   "execution_count": 4,
   "id": "6970900b",
   "metadata": {},
   "outputs": [],
   "source": [
    "# derivative to understand direction of ascent or descnt\n",
    "def derivative(x):\n",
    "    return x -30"
   ]
  },
  {
   "cell_type": "code",
   "execution_count": 5,
   "id": "6548553a",
   "metadata": {},
   "outputs": [],
   "source": [
    "# using SGD with momentum as optimzation func\n",
    "def sgdm(x, lr, m, iterations):\n",
    "    history=[x]\n",
    "    velocity=0\n",
    "    \n",
    "    for i in range(iterations):\n",
    "        gradient=derivative(x)\n",
    "        velocity = m*velocity - lr*gradient\n",
    "        x+=velocity\n",
    "        history.append(x)\n",
    "    return x, history"
   ]
  },
  {
   "cell_type": "code",
   "execution_count": 26,
   "id": "55ed06b2",
   "metadata": {},
   "outputs": [],
   "source": [
    "# initializing values\n",
    "initial_price =700\n",
    "lr =0.5\n",
    "m= 0.5\n",
    "iterations =20"
   ]
  },
  {
   "cell_type": "code",
   "execution_count": 27,
   "id": "d1378fd7",
   "metadata": {},
   "outputs": [],
   "source": [
    "# optimization\n",
    "optimal_price, price_history = sgdm(initial_price, lr, m, iterations)"
   ]
  },
  {
   "cell_type": "code",
   "execution_count": 28,
   "id": "9770e6c3",
   "metadata": {},
   "outputs": [
    {
     "name": "stdout",
     "output_type": "stream",
     "text": [
      "Optimal Price: 29.345703125\n",
      "Revenue at Optimal Price: -349.7859477996826\n",
      "Price History: [700, 365.0, 30.0, -137.5, -137.5, -53.75, 30.0, 71.875, 71.875, 50.9375, 30.0, 19.53125, 19.53125, 24.765625, 30.0, 32.6171875, 32.6171875, 31.30859375, 30.0, 29.345703125, 29.345703125]\n"
     ]
    }
   ],
   "source": [
    "# Print results\n",
    "print(\"Optimal Price:\", optimal_price)\n",
    "print(\"Revenue at Optimal Price:\", revenue(optimal_price))\n",
    "print(\"Price History:\", price_history)"
   ]
  },
  {
   "cell_type": "code",
   "execution_count": 29,
   "id": "320a6761",
   "metadata": {},
   "outputs": [
    {
     "data": {
      "image/png": "[encoded data removed]",
      "text/plain": [
       "<Figure size 720x432 with 1 Axes>"
      ]
     },
     "metadata": {
      "needs_background": "light"
     },
     "output_type": "display_data"
    }
   ],
   "source": [
    "# Plot optimization process\n",
    "plt.figure(figsize=(10, 6))\n",
    "iteration = np.arange(iterations + 1)\n",
    "plt.plot(iteration, [revenue(x) for x in price_history], marker='o', color='b', label='Revenue')\n",
    "plt.xlabel('Iteration')\n",
    "plt.ylabel('Revenue')\n",
    "plt.title('Optimization Process')\n",
    "plt.legend()\n",
    "plt.grid(True)\n",
    "plt.show()"
   ]
  },
  {
   "cell_type": "code",
   "execution_count": 61,
   "id": "7da45a98",
   "metadata": {},
   "outputs": [],
   "source": [
    "import pandas as pd\n",
    "from imblearn.over_sampling import SMOTE\n",
    "import tensorflow as tf\n",
    "from sklearn.model_selection import train_test_split\n",
    "from sklearn.metrics import accuracy_score, precision_score, recall_score, f1_score, confusion_matrix, roc_curve, roc_auc_score"
   ]
  },
  {
   "cell_type": "code",
   "execution_count": 31,
   "id": "cfd3e66c",
   "metadata": {},
   "outputs": [
    {
     "data": {
      "text/html": [
       "<div>\n",
       "<style scoped>\n",
       "    .dataframe tbody tr th:only-of-type {\n",
       "        vertical-align: middle;\n",
       "    }\n",
       "\n",
       "    .dataframe tbody tr th {\n",
       "        vertical-align: top;\n",
       "    }\n",
       "\n",
       "    .dataframe thead th {\n",
       "        text-align: right;\n",
       "    }\n",
       "</style>\n",
       "<table border=\"1\" class=\"dataframe\">\n",
       "  <thead>\n",
       "    <tr style=\"text-align: right;\">\n",
       "      <th></th>\n",
       "      <th>id</th>\n",
       "      <th>gender</th>\n",
       "      <th>age</th>\n",
       "      <th>hypertension</th>\n",
       "      <th>heart_disease</th>\n",
       "      <th>ever_married</th>\n",
       "      <th>work_type</th>\n",
       "      <th>Residence_type</th>\n",
       "      <th>avg_glucose_level</th>\n",
       "      <th>bmi</th>\n",
       "      <th>smoking_status</th>\n",
       "      <th>stroke</th>\n",
       "    </tr>\n",
       "  </thead>\n",
       "  <tbody>\n",
       "    <tr>\n",
       "      <th>0</th>\n",
       "      <td>9046</td>\n",
       "      <td>Male</td>\n",
       "      <td>67.0</td>\n",
       "      <td>0</td>\n",
       "      <td>1</td>\n",
       "      <td>Yes</td>\n",
       "      <td>Private</td>\n",
       "      <td>Urban</td>\n",
       "      <td>228.69</td>\n",
       "      <td>36.6</td>\n",
       "      <td>formerly smoked</td>\n",
       "      <td>1</td>\n",
       "    </tr>\n",
       "    <tr>\n",
       "      <th>1</th>\n",
       "      <td>51676</td>\n",
       "      <td>Female</td>\n",
       "      <td>61.0</td>\n",
       "      <td>0</td>\n",
       "      <td>0</td>\n",
       "      <td>Yes</td>\n",
       "      <td>Self-employed</td>\n",
       "      <td>Rural</td>\n",
       "      <td>202.21</td>\n",
       "      <td>NaN</td>\n",
       "      <td>never smoked</td>\n",
       "      <td>1</td>\n",
       "    </tr>\n",
       "    <tr>\n",
       "      <th>2</th>\n",
       "      <td>31112</td>\n",
       "      <td>Male</td>\n",
       "      <td>80.0</td>\n",
       "      <td>0</td>\n",
       "      <td>1</td>\n",
       "      <td>Yes</td>\n",
       "      <td>Private</td>\n",
       "      <td>Rural</td>\n",
       "      <td>105.92</td>\n",
       "      <td>32.5</td>\n",
       "      <td>never smoked</td>\n",
       "      <td>1</td>\n",
       "    </tr>\n",
       "    <tr>\n",
       "      <th>3</th>\n",
       "      <td>60182</td>\n",
       "      <td>Female</td>\n",
       "      <td>49.0</td>\n",
       "      <td>0</td>\n",
       "      <td>0</td>\n",
       "      <td>Yes</td>\n",
       "      <td>Private</td>\n",
       "      <td>Urban</td>\n",
       "      <td>171.23</td>\n",
       "      <td>34.4</td>\n",
       "      <td>smokes</td>\n",
       "      <td>1</td>\n",
       "    </tr>\n",
       "    <tr>\n",
       "      <th>4</th>\n",
       "      <td>1665</td>\n",
       "      <td>Female</td>\n",
       "      <td>79.0</td>\n",
       "      <td>1</td>\n",
       "      <td>0</td>\n",
       "      <td>Yes</td>\n",
       "      <td>Self-employed</td>\n",
       "      <td>Rural</td>\n",
       "      <td>174.12</td>\n",
       "      <td>24.0</td>\n",
       "      <td>never smoked</td>\n",
       "      <td>1</td>\n",
       "    </tr>\n",
       "  </tbody>\n",
       "</table>\n",
       "</div>"
      ],
      "text/plain": [
       "      id  gender   age  hypertension  heart_disease ever_married  \\\n",
       "0   9046    Male  67.0             0              1          Yes   \n",
       "1  51676  Female  61.0             0              0          Yes   \n",
       "2  31112    Male  80.0             0              1          Yes   \n",
       "3  60182  Female  49.0             0              0          Yes   \n",
       "4   1665  Female  79.0             1              0          Yes   \n",
       "\n",
       "       work_type Residence_type  avg_glucose_level   bmi   smoking_status  \\\n",
       "0        Private          Urban             228.69  36.6  formerly smoked   \n",
       "1  Self-employed          Rural             202.21   NaN     never smoked   \n",
       "2        Private          Rural             105.92  32.5     never smoked   \n",
       "3        Private          Urban             171.23  34.4           smokes   \n",
       "4  Self-employed          Rural             174.12  24.0     never smoked   \n",
       "\n",
       "   stroke  \n",
       "0       1  \n",
       "1       1  \n",
       "2       1  \n",
       "3       1  \n",
       "4       1  "
      ]
     },
     "execution_count": 31,
     "metadata": {},
     "output_type": "execute_result"
    }
   ],
   "source": [
    "df = pd.read_csv('healthcare-dataset-stroke-data.csv')\n",
    "df.head()"
   ]
  },
  {
   "cell_type": "code",
   "execution_count": 33,
   "id": "2d9c088f",
   "metadata": {},
   "outputs": [
    {
     "data": {
      "text/plain": [
       "Index(['id', 'gender', 'age', 'hypertension', 'heart_disease', 'ever_married',\n",
       "       'work_type', 'Residence_type', 'avg_glucose_level', 'bmi',\n",
       "       'smoking_status', 'stroke'],\n",
       "      dtype='object')"
      ]
     },
     "execution_count": 33,
     "metadata": {},
     "output_type": "execute_result"
    }
   ],
   "source": [
    "df.columns"
   ]
  },
  {
   "cell_type": "code",
   "execution_count": 34,
   "id": "7382eade",
   "metadata": {},
   "outputs": [],
   "source": [
    "df.drop('id', axis=1, inplace=True)"
   ]
  },
  {
   "cell_type": "code",
   "execution_count": 42,
   "id": "b613f0b2",
   "metadata": {},
   "outputs": [
    {
     "data": {
      "text/plain": [
       "gender               0\n",
       "age                  0\n",
       "hypertension         0\n",
       "heart_disease        0\n",
       "ever_married         0\n",
       "work_type            0\n",
       "Residence_type       0\n",
       "avg_glucose_level    0\n",
       "bmi                  0\n",
       "smoking_status       0\n",
       "stroke               0\n",
       "dtype: int64"
      ]
     },
     "execution_count": 42,
     "metadata": {},
     "output_type": "execute_result"
    }
   ],
   "source": [
    "df.isnull().sum()"
   ]
  },
  {
   "cell_type": "code",
   "execution_count": 39,
   "id": "1e0b2acd",
   "metadata": {},
   "outputs": [
    {
     "data": {
      "text/plain": [
       "28.89323691179472"
      ]
     },
     "execution_count": 39,
     "metadata": {},
     "output_type": "execute_result"
    }
   ],
   "source": [
    "# handling missing values in bmi\n",
    "mean_bmi = df['bmi'].mean()\n",
    "mean_bmi"
   ]
  },
  {
   "cell_type": "code",
   "execution_count": 40,
   "id": "0bd305d8",
   "metadata": {},
   "outputs": [],
   "source": [
    "df['bmi'].fillna(mean_bmi, inplace=True)"
   ]
  },
  {
   "cell_type": "code",
   "execution_count": 43,
   "id": "0a79f70c",
   "metadata": {},
   "outputs": [
    {
     "name": "stdout",
     "output_type": "stream",
     "text": [
      "<class 'pandas.core.frame.DataFrame'>\n",
      "RangeIndex: 5110 entries, 0 to 5109\n",
      "Data columns (total 11 columns):\n",
      " #   Column             Non-Null Count  Dtype  \n",
      "---  ------             --------------  -----  \n",
      " 0   gender             5110 non-null   object \n",
      " 1   age                5110 non-null   float64\n",
      " 2   hypertension       5110 non-null   int64  \n",
      " 3   heart_disease      5110 non-null   int64  \n",
      " 4   ever_married       5110 non-null   object \n",
      " 5   work_type          5110 non-null   object \n",
      " 6   Residence_type     5110 non-null   object \n",
      " 7   avg_glucose_level  5110 non-null   float64\n",
      " 8   bmi                5110 non-null   float64\n",
      " 9   smoking_status     5110 non-null   object \n",
      " 10  stroke             5110 non-null   int64  \n",
      "dtypes: float64(3), int64(3), object(5)\n",
      "memory usage: 439.3+ KB\n"
     ]
    }
   ],
   "source": [
    "df.info()"
   ]
  },
  {
   "cell_type": "code",
   "execution_count": 44,
   "id": "f93687de",
   "metadata": {},
   "outputs": [],
   "source": [
    "df = pd.get_dummies(df, columns=['gender', 'ever_married', 'work_type', 'Residence_type', 'smoking_status'])"
   ]
  },
  {
   "cell_type": "code",
   "execution_count": 45,
   "id": "410c1270",
   "metadata": {},
   "outputs": [
    {
     "data": {
      "text/html": [
       "<div>\n",
       "<style scoped>\n",
       "    .dataframe tbody tr th:only-of-type {\n",
       "        vertical-align: middle;\n",
       "    }\n",
       "\n",
       "    .dataframe tbody tr th {\n",
       "        vertical-align: top;\n",
       "    }\n",
       "\n",
       "    .dataframe thead th {\n",
       "        text-align: right;\n",
       "    }\n",
       "</style>\n",
       "<table border=\"1\" class=\"dataframe\">\n",
       "  <thead>\n",
       "    <tr style=\"text-align: right;\">\n",
       "      <th></th>\n",
       "      <th>age</th>\n",
       "      <th>hypertension</th>\n",
       "      <th>heart_disease</th>\n",
       "      <th>avg_glucose_level</th>\n",
       "      <th>bmi</th>\n",
       "      <th>stroke</th>\n",
       "      <th>gender_Female</th>\n",
       "      <th>gender_Male</th>\n",
       "      <th>gender_Other</th>\n",
       "      <th>ever_married_No</th>\n",
       "      <th>...</th>\n",
       "      <th>work_type_Never_worked</th>\n",
       "      <th>work_type_Private</th>\n",
       "      <th>work_type_Self-employed</th>\n",
       "      <th>work_type_children</th>\n",
       "      <th>Residence_type_Rural</th>\n",
       "      <th>Residence_type_Urban</th>\n",
       "      <th>smoking_status_Unknown</th>\n",
       "      <th>smoking_status_formerly smoked</th>\n",
       "      <th>smoking_status_never smoked</th>\n",
       "      <th>smoking_status_smokes</th>\n",
       "    </tr>\n",
       "  </thead>\n",
       "  <tbody>\n",
       "    <tr>\n",
       "      <th>0</th>\n",
       "      <td>67.0</td>\n",
       "      <td>0</td>\n",
       "      <td>1</td>\n",
       "      <td>228.69</td>\n",
       "      <td>36.600000</td>\n",
       "      <td>1</td>\n",
       "      <td>0</td>\n",
       "      <td>1</td>\n",
       "      <td>0</td>\n",
       "      <td>0</td>\n",
       "      <td>...</td>\n",
       "      <td>0</td>\n",
       "      <td>1</td>\n",
       "      <td>0</td>\n",
       "      <td>0</td>\n",
       "      <td>0</td>\n",
       "      <td>1</td>\n",
       "      <td>0</td>\n",
       "      <td>1</td>\n",
       "      <td>0</td>\n",
       "      <td>0</td>\n",
       "    </tr>\n",
       "    <tr>\n",
       "      <th>1</th>\n",
       "      <td>61.0</td>\n",
       "      <td>0</td>\n",
       "      <td>0</td>\n",
       "      <td>202.21</td>\n",
       "      <td>28.893237</td>\n",
       "      <td>1</td>\n",
       "      <td>1</td>\n",
       "      <td>0</td>\n",
       "      <td>0</td>\n",
       "      <td>0</td>\n",
       "      <td>...</td>\n",
       "      <td>0</td>\n",
       "      <td>0</td>\n",
       "      <td>1</td>\n",
       "      <td>0</td>\n",
       "      <td>1</td>\n",
       "      <td>0</td>\n",
       "      <td>0</td>\n",
       "      <td>0</td>\n",
       "      <td>1</td>\n",
       "      <td>0</td>\n",
       "    </tr>\n",
       "    <tr>\n",
       "      <th>2</th>\n",
       "      <td>80.0</td>\n",
       "      <td>0</td>\n",
       "      <td>1</td>\n",
       "      <td>105.92</td>\n",
       "      <td>32.500000</td>\n",
       "      <td>1</td>\n",
       "      <td>0</td>\n",
       "      <td>1</td>\n",
       "      <td>0</td>\n",
       "      <td>0</td>\n",
       "      <td>...</td>\n",
       "      <td>0</td>\n",
       "      <td>1</td>\n",
       "      <td>0</td>\n",
       "      <td>0</td>\n",
       "      <td>1</td>\n",
       "      <td>0</td>\n",
       "      <td>0</td>\n",
       "      <td>0</td>\n",
       "      <td>1</td>\n",
       "      <td>0</td>\n",
       "    </tr>\n",
       "    <tr>\n",
       "      <th>3</th>\n",
       "      <td>49.0</td>\n",
       "      <td>0</td>\n",
       "      <td>0</td>\n",
       "      <td>171.23</td>\n",
       "      <td>34.400000</td>\n",
       "      <td>1</td>\n",
       "      <td>1</td>\n",
       "      <td>0</td>\n",
       "      <td>0</td>\n",
       "      <td>0</td>\n",
       "      <td>...</td>\n",
       "      <td>0</td>\n",
       "      <td>1</td>\n",
       "      <td>0</td>\n",
       "      <td>0</td>\n",
       "      <td>0</td>\n",
       "      <td>1</td>\n",
       "      <td>0</td>\n",
       "      <td>0</td>\n",
       "      <td>0</td>\n",
       "      <td>1</td>\n",
       "    </tr>\n",
       "    <tr>\n",
       "      <th>4</th>\n",
       "      <td>79.0</td>\n",
       "      <td>1</td>\n",
       "      <td>0</td>\n",
       "      <td>174.12</td>\n",
       "      <td>24.000000</td>\n",
       "      <td>1</td>\n",
       "      <td>1</td>\n",
       "      <td>0</td>\n",
       "      <td>0</td>\n",
       "      <td>0</td>\n",
       "      <td>...</td>\n",
       "      <td>0</td>\n",
       "      <td>0</td>\n",
       "      <td>1</td>\n",
       "      <td>0</td>\n",
       "      <td>1</td>\n",
       "      <td>0</td>\n",
       "      <td>0</td>\n",
       "      <td>0</td>\n",
       "      <td>1</td>\n",
       "      <td>0</td>\n",
       "    </tr>\n",
       "  </tbody>\n",
       "</table>\n",
       "<p>5 rows × 22 columns</p>\n",
       "</div>"
      ],
      "text/plain": [
       "    age  hypertension  heart_disease  avg_glucose_level        bmi  stroke  \\\n",
       "0  67.0             0              1             228.69  36.600000       1   \n",
       "1  61.0             0              0             202.21  28.893237       1   \n",
       "2  80.0             0              1             105.92  32.500000       1   \n",
       "3  49.0             0              0             171.23  34.400000       1   \n",
       "4  79.0             1              0             174.12  24.000000       1   \n",
       "\n",
       "   gender_Female  gender_Male  gender_Other  ever_married_No  ...  \\\n",
       "0              0            1             0                0  ...   \n",
       "1              1            0             0                0  ...   \n",
       "2              0            1             0                0  ...   \n",
       "3              1            0             0                0  ...   \n",
       "4              1            0             0                0  ...   \n",
       "\n",
       "   work_type_Never_worked  work_type_Private  work_type_Self-employed  \\\n",
       "0                       0                  1                        0   \n",
       "1                       0                  0                        1   \n",
       "2                       0                  1                        0   \n",
       "3                       0                  1                        0   \n",
       "4                       0                  0                        1   \n",
       "\n",
       "   work_type_children  Residence_type_Rural  Residence_type_Urban  \\\n",
       "0                   0                     0                     1   \n",
       "1                   0                     1                     0   \n",
       "2                   0                     1                     0   \n",
       "3                   0                     0                     1   \n",
       "4                   0                     1                     0   \n",
       "\n",
       "   smoking_status_Unknown  smoking_status_formerly smoked  \\\n",
       "0                       0                               1   \n",
       "1                       0                               0   \n",
       "2                       0                               0   \n",
       "3                       0                               0   \n",
       "4                       0                               0   \n",
       "\n",
       "   smoking_status_never smoked  smoking_status_smokes  \n",
       "0                            0                      0  \n",
       "1                            1                      0  \n",
       "2                            1                      0  \n",
       "3                            0                      1  \n",
       "4                            1                      0  \n",
       "\n",
       "[5 rows x 22 columns]"
      ]
     },
     "execution_count": 45,
     "metadata": {},
     "output_type": "execute_result"
    }
   ],
   "source": [
    "df.head()"
   ]
  },
  {
   "cell_type": "code",
   "execution_count": 47,
   "id": "081d039f",
   "metadata": {},
   "outputs": [
    {
     "data": {
      "image/png": "[encoded data removed]",
      "text/plain": [
       "<Figure size 576x432 with 1 Axes>"
      ]
     },
     "metadata": {
      "needs_background": "light"
     },
     "output_type": "display_data"
    }
   ],
   "source": [
    "#distribution of the target variable 'stroke'\n",
    "import seaborn as sns\n",
    "plt.figure(figsize=(8, 6))\n",
    "sns.countplot(x='stroke', data=df)\n",
    "plt.title('Distribution of Stroke')\n",
    "plt.xlabel('Stroke')\n",
    "plt.ylabel('Count')\n",
    "plt.show()"
   ]
  },
  {
   "cell_type": "code",
   "execution_count": 49,
   "id": "ce6cfa79",
   "metadata": {},
   "outputs": [
    {
     "data": {
      "text/plain": [
       "0    4861\n",
       "1     249\n",
       "Name: stroke, dtype: int64"
      ]
     },
     "execution_count": 49,
     "metadata": {},
     "output_type": "execute_result"
    }
   ],
   "source": [
    "df['stroke'].value_counts()"
   ]
  },
  {
   "cell_type": "code",
   "execution_count": 50,
   "id": "f27607a3",
   "metadata": {},
   "outputs": [],
   "source": [
    "X = df.drop('stroke', axis=1)\n",
    "y = df['stroke']"
   ]
  },
  {
   "cell_type": "code",
   "execution_count": 52,
   "id": "ad06a6f3",
   "metadata": {},
   "outputs": [],
   "source": [
    "# Applying SMOTE to target\n",
    "smote = SMOTE(random_state=42)\n",
    "X_resampled, y_resampled = smote.fit_resample(X, y)"
   ]
  },
  {
   "cell_type": "code",
   "execution_count": 53,
   "id": "e4850456",
   "metadata": {},
   "outputs": [
    {
     "data": {
      "text/plain": [
       "1    4861\n",
       "0    4861\n",
       "Name: stroke, dtype: int64"
      ]
     },
     "execution_count": 53,
     "metadata": {},
     "output_type": "execute_result"
    }
   ],
   "source": [
    "pd.Series(y_resampled).value_counts()"
   ]
  },
  {
   "cell_type": "code",
   "execution_count": 54,
   "id": "f0fcf156",
   "metadata": {},
   "outputs": [
    {
     "data": {
      "image/png": "[encoded data removed]",
      "text/plain": [
       "<Figure size 576x432 with 1 Axes>"
      ]
     },
     "metadata": {
      "needs_background": "light"
     },
     "output_type": "display_data"
    }
   ],
   "source": [
    "resampled_stroke = pd.Series(y_resampled)\n",
    "\n",
    "# distribution after SMOTE\n",
    "plt.figure(figsize=(8, 6))\n",
    "sns.countplot(x=resampled_stroke)\n",
    "plt.title('Distribution of Stroke after SMOTE')\n",
    "plt.xlabel('Stroke')\n",
    "plt.ylabel('Count')\n",
    "plt.xticks(ticks=[0, 1], labels=['No Stroke', 'Stroke'])\n",
    "plt.show()"
   ]
  },
  {
   "cell_type": "code",
   "execution_count": 57,
   "id": "8520f4d6",
   "metadata": {},
   "outputs": [],
   "source": [
    "# split\n",
    "X_train, X_test, y_train, y_test = train_test_split(X_resampled, y_resampled, test_size=0.2, random_state=42)"
   ]
  },
  {
   "cell_type": "code",
   "execution_count": 78,
   "id": "039a2a52",
   "metadata": {},
   "outputs": [],
   "source": [
    "# MLP with L1 and L2\n",
    "model = tf.keras.Sequential([\n",
    "    tf.keras.layers.Dense(128, activation='relu', kernel_regularizer=tf.keras.regularizers.l1(0.001), input_shape=(X_train.shape[1],)),\n",
    "    tf.keras.layers.Dense(128, activation='relu', kernel_regularizer=tf.keras.regularizers.l2(0.001)),\n",
    "    tf.keras.layers.Dense(1, activation='sigmoid')\n",
    "])"
   ]
  },
  {
   "cell_type": "code",
   "execution_count": 79,
   "id": "9c94433d",
   "metadata": {},
   "outputs": [],
   "source": [
    "optimizer = tf.keras.optimizers.SGD(learning_rate=0.01)  # You can adjust the learning rate as needed\n",
    "model.compile(optimizer=optimizer,\n",
    "              loss='binary_crossentropy',# coz binary classification\n",
    "              metrics=['accuracy'])"
   ]
  },
  {
   "cell_type": "code",
   "execution_count": 80,
   "id": "f58c6d3f",
   "metadata": {},
   "outputs": [],
   "source": [
    "from tensorflow.keras.callbacks import EarlyStopping\n",
    "early_stopping = EarlyStopping(monitor='val_loss', patience=5)"
   ]
  },
  {
   "cell_type": "code",
   "execution_count": 81,
   "id": "da02c3dc",
   "metadata": {},
   "outputs": [
    {
     "name": "stdout",
     "output_type": "stream",
     "text": [
      "Epoch 1/52\n",
      "195/195 [==============================] - 1s 2ms/step - loss: 1.2427 - accuracy: 0.7139 - val_loss: 0.9174 - val_accuracy: 0.7230\n",
      "Epoch 2/52\n",
      "195/195 [==============================] - 0s 2ms/step - loss: 0.9096 - accuracy: 0.7312 - val_loss: 0.9023 - val_accuracy: 0.7500\n",
      "Epoch 3/52\n",
      "195/195 [==============================] - 0s 1ms/step - loss: 0.8915 - accuracy: 0.7444 - val_loss: 0.8532 - val_accuracy: 0.7590\n",
      "Epoch 4/52\n",
      "195/195 [==============================] - 0s 2ms/step - loss: 0.8820 - accuracy: 0.7446 - val_loss: 0.8560 - val_accuracy: 0.7629\n",
      "Epoch 5/52\n",
      "195/195 [==============================] - 0s 1ms/step - loss: 0.8703 - accuracy: 0.7507 - val_loss: 0.8569 - val_accuracy: 0.7532\n",
      "Epoch 6/52\n",
      "195/195 [==============================] - 0s 2ms/step - loss: 0.8691 - accuracy: 0.7486 - val_loss: 0.8349 - val_accuracy: 0.7699\n",
      "Epoch 7/52\n",
      "195/195 [==============================] - 0s 2ms/step - loss: 0.8534 - accuracy: 0.7533 - val_loss: 0.8292 - val_accuracy: 0.7622\n",
      "Epoch 8/52\n",
      "195/195 [==============================] - 0s 2ms/step - loss: 0.8516 - accuracy: 0.7547 - val_loss: 0.8408 - val_accuracy: 0.7571\n",
      "Epoch 9/52\n",
      "195/195 [==============================] - 0s 2ms/step - loss: 0.8418 - accuracy: 0.7566 - val_loss: 0.8070 - val_accuracy: 0.7699\n",
      "Epoch 10/52\n",
      "195/195 [==============================] - 0s 2ms/step - loss: 0.8379 - accuracy: 0.7531 - val_loss: 0.8125 - val_accuracy: 0.7622\n",
      "Epoch 11/52\n",
      "195/195 [==============================] - 0s 1ms/step - loss: 0.8315 - accuracy: 0.7560 - val_loss: 0.8106 - val_accuracy: 0.7641\n",
      "Epoch 12/52\n",
      "195/195 [==============================] - 0s 2ms/step - loss: 0.8220 - accuracy: 0.7558 - val_loss: 0.7964 - val_accuracy: 0.7706\n",
      "Epoch 13/52\n",
      "195/195 [==============================] - 0s 2ms/step - loss: 0.8200 - accuracy: 0.7586 - val_loss: 0.8976 - val_accuracy: 0.7024\n",
      "Epoch 14/52\n",
      "195/195 [==============================] - 0s 2ms/step - loss: 0.8161 - accuracy: 0.7550 - val_loss: 0.8504 - val_accuracy: 0.7384\n",
      "Epoch 15/52\n",
      "195/195 [==============================] - 0s 2ms/step - loss: 0.8046 - accuracy: 0.7635 - val_loss: 0.8666 - val_accuracy: 0.7307\n",
      "Epoch 16/52\n",
      "195/195 [==============================] - 0s 2ms/step - loss: 0.7982 - accuracy: 0.7642 - val_loss: 0.8511 - val_accuracy: 0.7198\n",
      "Epoch 17/52\n",
      "195/195 [==============================] - 0s 1ms/step - loss: 0.7942 - accuracy: 0.7611 - val_loss: 0.8183 - val_accuracy: 0.7378\n",
      "Epoch 18/52\n",
      "195/195 [==============================] - 0s 2ms/step - loss: 0.7895 - accuracy: 0.7658 - val_loss: 0.7668 - val_accuracy: 0.7744\n",
      "Epoch 19/52\n",
      "195/195 [==============================] - 0s 2ms/step - loss: 0.7829 - accuracy: 0.7631 - val_loss: 0.7622 - val_accuracy: 0.7763\n",
      "Epoch 20/52\n",
      "195/195 [==============================] - 0s 2ms/step - loss: 0.7810 - accuracy: 0.7594 - val_loss: 0.9478 - val_accuracy: 0.6620\n",
      "Epoch 21/52\n",
      "195/195 [==============================] - 0s 2ms/step - loss: 0.7768 - accuracy: 0.7581 - val_loss: 0.7562 - val_accuracy: 0.7680\n",
      "Epoch 22/52\n",
      "195/195 [==============================] - 0s 2ms/step - loss: 0.7705 - accuracy: 0.7655 - val_loss: 0.7943 - val_accuracy: 0.7339\n",
      "Epoch 23/52\n",
      "195/195 [==============================] - 0s 2ms/step - loss: 0.7636 - accuracy: 0.7652 - val_loss: 0.7699 - val_accuracy: 0.7564\n",
      "Epoch 24/52\n",
      "195/195 [==============================] - 0s 2ms/step - loss: 0.7563 - accuracy: 0.7679 - val_loss: 0.7452 - val_accuracy: 0.7776\n",
      "Epoch 25/52\n",
      "195/195 [==============================] - 0s 2ms/step - loss: 0.7532 - accuracy: 0.7669 - val_loss: 0.8454 - val_accuracy: 0.7134\n",
      "Epoch 26/52\n",
      "195/195 [==============================] - 0s 2ms/step - loss: 0.7435 - accuracy: 0.7714 - val_loss: 0.7204 - val_accuracy: 0.7866\n",
      "Epoch 27/52\n",
      "195/195 [==============================] - 0s 2ms/step - loss: 0.7469 - accuracy: 0.7648 - val_loss: 0.7297 - val_accuracy: 0.7731\n",
      "Epoch 28/52\n",
      "195/195 [==============================] - 0s 1ms/step - loss: 0.7394 - accuracy: 0.7672 - val_loss: 0.7160 - val_accuracy: 0.7783\n",
      "Epoch 29/52\n",
      "195/195 [==============================] - 0s 2ms/step - loss: 0.7356 - accuracy: 0.7676 - val_loss: 0.7214 - val_accuracy: 0.7719\n",
      "Epoch 30/52\n",
      "195/195 [==============================] - 0s 2ms/step - loss: 0.7325 - accuracy: 0.7658 - val_loss: 0.7156 - val_accuracy: 0.7712\n",
      "Epoch 31/52\n",
      "195/195 [==============================] - 0s 2ms/step - loss: 0.7223 - accuracy: 0.7680 - val_loss: 0.7177 - val_accuracy: 0.7789\n",
      "Epoch 32/52\n",
      "195/195 [==============================] - 0s 2ms/step - loss: 0.7252 - accuracy: 0.7668 - val_loss: 0.6981 - val_accuracy: 0.7841\n",
      "Epoch 33/52\n",
      "195/195 [==============================] - 0s 2ms/step - loss: 0.7193 - accuracy: 0.7719 - val_loss: 0.9173 - val_accuracy: 0.6787\n",
      "Epoch 34/52\n",
      "195/195 [==============================] - 0s 2ms/step - loss: 0.7116 - accuracy: 0.7732 - val_loss: 0.7479 - val_accuracy: 0.7487\n",
      "Epoch 35/52\n",
      "195/195 [==============================] - 0s 2ms/step - loss: 0.7114 - accuracy: 0.7685 - val_loss: 0.6852 - val_accuracy: 0.7821\n",
      "Epoch 36/52\n",
      "195/195 [==============================] - 0s 2ms/step - loss: 0.7035 - accuracy: 0.7714 - val_loss: 0.6991 - val_accuracy: 0.7744\n",
      "Epoch 37/52\n",
      "195/195 [==============================] - 0s 2ms/step - loss: 0.7027 - accuracy: 0.7685 - val_loss: 0.6992 - val_accuracy: 0.7558\n",
      "Epoch 38/52\n",
      "195/195 [==============================] - 0s 2ms/step - loss: 0.6976 - accuracy: 0.7721 - val_loss: 0.6656 - val_accuracy: 0.7918\n",
      "Epoch 39/52\n",
      "195/195 [==============================] - 0s 2ms/step - loss: 0.6897 - accuracy: 0.7782 - val_loss: 0.6694 - val_accuracy: 0.7738\n",
      "Epoch 40/52\n",
      "195/195 [==============================] - 0s 2ms/step - loss: 0.6885 - accuracy: 0.7713 - val_loss: 0.6772 - val_accuracy: 0.7815\n",
      "Epoch 41/52\n",
      "195/195 [==============================] - 0s 2ms/step - loss: 0.6822 - accuracy: 0.7750 - val_loss: 0.6618 - val_accuracy: 0.7898\n",
      "Epoch 42/52\n",
      "195/195 [==============================] - 0s 2ms/step - loss: 0.6831 - accuracy: 0.7679 - val_loss: 0.6546 - val_accuracy: 0.7731\n",
      "Epoch 43/52\n",
      "195/195 [==============================] - 0s 2ms/step - loss: 0.6777 - accuracy: 0.7735 - val_loss: 0.6724 - val_accuracy: 0.7693\n",
      "Epoch 44/52\n",
      "195/195 [==============================] - 0s 2ms/step - loss: 0.6736 - accuracy: 0.7750 - val_loss: 0.6643 - val_accuracy: 0.7674\n",
      "Epoch 45/52\n",
      "195/195 [==============================] - 0s 2ms/step - loss: 0.6723 - accuracy: 0.7780 - val_loss: 0.6519 - val_accuracy: 0.7731\n",
      "Epoch 46/52\n",
      "195/195 [==============================] - 0s 2ms/step - loss: 0.6739 - accuracy: 0.7697 - val_loss: 0.6514 - val_accuracy: 0.7815\n",
      "Epoch 47/52\n",
      "195/195 [==============================] - 0s 2ms/step - loss: 0.6606 - accuracy: 0.7722 - val_loss: 0.6685 - val_accuracy: 0.7712\n",
      "Epoch 48/52\n",
      "195/195 [==============================] - 0s 2ms/step - loss: 0.6591 - accuracy: 0.7762 - val_loss: 0.7224 - val_accuracy: 0.7449\n",
      "Epoch 49/52\n",
      "195/195 [==============================] - 0s 2ms/step - loss: 0.6574 - accuracy: 0.7750 - val_loss: 0.6372 - val_accuracy: 0.7860\n",
      "Epoch 50/52\n",
      "195/195 [==============================] - 0s 2ms/step - loss: 0.6492 - accuracy: 0.7753 - val_loss: 0.7068 - val_accuracy: 0.7346\n",
      "Epoch 51/52\n",
      "195/195 [==============================] - 0s 2ms/step - loss: 0.6500 - accuracy: 0.7750 - val_loss: 0.6676 - val_accuracy: 0.7571\n",
      "Epoch 52/52\n",
      "195/195 [==============================] - 0s 2ms/step - loss: 0.6459 - accuracy: 0.7767 - val_loss: 0.8431 - val_accuracy: 0.6992\n"
     ]
    }
   ],
   "source": [
    "# Training\n",
    "history = model.fit(X_train, y_train, epochs=52, batch_size=32, validation_split=0.2, verbose=1)"
   ]
  },
  {
   "cell_type": "code",
   "execution_count": 82,
   "id": "c0a328a3",
   "metadata": {},
   "outputs": [
    {
     "name": "stdout",
     "output_type": "stream",
     "text": [
      "Model: \"sequential_3\"\n",
      "_________________________________________________________________\n",
      " Layer (type)                Output Shape              Param #   \n",
      "=================================================================\n",
      " dense_9 (Dense)             (None, 128)               2816      \n",
      "                                                                 \n",
      " dense_10 (Dense)            (None, 128)               16512     \n",
      "                                                                 \n",
      " dense_11 (Dense)            (None, 1)                 129       \n",
      "                                                                 \n",
      "=================================================================\n",
      "Total params: 19,457\n",
      "Trainable params: 19,457\n",
      "Non-trainable params: 0\n",
      "_________________________________________________________________\n"
     ]
    }
   ],
   "source": [
    "# Display the model summary\n",
    "model.summary()"
   ]
  },
  {
   "cell_type": "code",
   "execution_count": 83,
   "id": "e5d92695",
   "metadata": {},
   "outputs": [
    {
     "name": "stdout",
     "output_type": "stream",
     "text": [
      "61/61 [==============================] - 0s 1ms/step\n"
     ]
    }
   ],
   "source": [
    "y_pred = model.predict(X_test)\n",
    "y_pred_binary = (y_pred > 0.5).astype(int)"
   ]
  },
  {
   "cell_type": "code",
   "execution_count": 84,
   "id": "09320a1e",
   "metadata": {},
   "outputs": [
    {
     "name": "stdout",
     "output_type": "stream",
     "text": [
      "Accuracy: 0.7002570694087403\n",
      "Precision: 0.6260586319218241\n",
      "Recall: 0.9907216494845361\n",
      "F1-score: 0.7672654690618761\n"
     ]
    }
   ],
   "source": [
    "accuracy = accuracy_score(y_test, y_pred_binary)\n",
    "precision = precision_score(y_test, y_pred_binary)\n",
    "recall = recall_score(y_test, y_pred_binary)\n",
    "f1 = f1_score(y_test, y_pred_binary)\n",
    "\n",
    "print(\"Accuracy:\", accuracy)\n",
    "print(\"Precision:\", precision)\n",
    "print(\"Recall:\", recall)\n",
    "print(\"F1-score:\", f1)"
   ]
  },
  {
   "cell_type": "code",
   "execution_count": 85,
   "id": "06bab5aa",
   "metadata": {},
   "outputs": [
    {
     "name": "stdout",
     "output_type": "stream",
     "text": [
      "Confusion Matrix:\n",
      "[[401 574]\n",
      " [  9 961]]\n"
     ]
    }
   ],
   "source": [
    "conf_matrix = confusion_matrix(y_test, y_pred_binary)\n",
    "print(\"Confusion Matrix:\")\n",
    "print(conf_matrix)"
   ]
  },
  {
   "cell_type": "code",
   "execution_count": 86,
   "id": "37d6ec3b",
   "metadata": {},
   "outputs": [
    {
     "data": {
      "image/png": "[encoded data removed]",
      "text/plain": [
       "<Figure size 432x288 with 1 Axes>"
      ]
     },
     "metadata": {
      "needs_background": "light"
     },
     "output_type": "display_data"
    }
   ],
   "source": [
    "#ROC-AUC\n",
    "fpr, tpr, thresholds = roc_curve(y_test, y_pred)\n",
    "roc_auc = roc_auc_score(y_test, y_pred)\n",
    "plt.figure()\n",
    "plt.plot(fpr, tpr, color='darkorange', lw=2, label='ROC curve (area = %0.2f)' % roc_auc)\n",
    "plt.plot([0, 1], [0, 1], color='navy', lw=2, linestyle='--')\n",
    "plt.xlabel('False Positive Rate')\n",
    "plt.ylabel('True Positive Rate')\n",
    "plt.title('Receiver Operating Characteristic (ROC) Curve')\n",
    "plt.legend(loc=\"lower right\")\n",
    "plt.show()"
   ]
  },
  {
   "cell_type": "code",
   "execution_count": 87,
   "id": "531c83d6",
   "metadata": {},
   "outputs": [
    {
     "data": {
      "image/png": "[encoded data removed]",
      "text/plain": [
       "<Figure size 432x288 with 1 Axes>"
      ]
     },
     "metadata": {
      "needs_background": "light"
     },
     "output_type": "display_data"
    }
   ],
   "source": [
    "# Learning curve\n",
    "plt.figure()\n",
    "plt.plot(history.history['accuracy'], label='Training Accuracy')\n",
    "plt.plot(history.history['val_accuracy'], label='Validation Accuracy')\n",
    "plt.title('Training and Validation Accuracy')\n",
    "plt.xlabel('Epoch')\n",
    "plt.ylabel('Accuracy')\n",
    "plt.legend()\n",
    "plt.show()"
   ]
  },
  {
   "cell_type": "code",
   "execution_count": 88,
   "id": "930cf33b",
   "metadata": {},
   "outputs": [],
   "source": [
    "X_train, X_test, y_train, y_test = train_test_split(X_resampled, y_resampled, test_size=0.2, random_state=42)"
   ]
  },
  {
   "cell_type": "code",
   "execution_count": 90,
   "id": "c85a8248",
   "metadata": {},
   "outputs": [],
   "source": [
    "# Elastic net regularization\n",
    "model = tf.keras.Sequential([\n",
    "    tf.keras.layers.Dense(128, activation='relu', kernel_regularizer=tf.keras.regularizers.l1_l2(l1=0.001, l2=0.001), input_shape=(X_train.shape[1],)),\n",
    "    tf.keras.layers.Dense(128, activation='relu', kernel_regularizer=tf.keras.regularizers.l1_l2(l1=0.001, l2=0.001)),\n",
    "    tf.keras.layers.Dense(1, activation='sigmoid')\n",
    "])"
   ]
  },
  {
   "cell_type": "code",
   "execution_count": 91,
   "id": "fc305681",
   "metadata": {},
   "outputs": [],
   "source": [
    "optimizer = tf.keras.optimizers.SGD(learning_rate=0.01)  \n",
    "model.compile(optimizer=optimizer,\n",
    "              loss='binary_crossentropy',\n",
    "              metrics=['accuracy'])"
   ]
  },
  {
   "cell_type": "code",
   "execution_count": 97,
   "id": "0b6725b5",
   "metadata": {},
   "outputs": [
    {
     "name": "stdout",
     "output_type": "stream",
     "text": [
      "Epoch 1/50\n",
      "195/195 [==============================] - 0s 2ms/step - loss: 0.6517 - accuracy: 0.7733 - val_loss: 0.6194 - val_accuracy: 0.7853\n",
      "Epoch 2/50\n",
      "195/195 [==============================] - 0s 2ms/step - loss: 0.6383 - accuracy: 0.7697 - val_loss: 0.6044 - val_accuracy: 0.8008\n",
      "Epoch 3/50\n",
      "195/195 [==============================] - 0s 2ms/step - loss: 0.6252 - accuracy: 0.7708 - val_loss: 0.5982 - val_accuracy: 0.7853\n",
      "Epoch 4/50\n",
      "195/195 [==============================] - 0s 2ms/step - loss: 0.6121 - accuracy: 0.7695 - val_loss: 0.5827 - val_accuracy: 0.7892\n",
      "Epoch 5/50\n",
      "195/195 [==============================] - 0s 2ms/step - loss: 0.6064 - accuracy: 0.7758 - val_loss: 0.5894 - val_accuracy: 0.7796\n",
      "Epoch 6/50\n",
      "195/195 [==============================] - 0s 2ms/step - loss: 0.5972 - accuracy: 0.7721 - val_loss: 0.6188 - val_accuracy: 0.7551\n",
      "Epoch 7/50\n",
      "195/195 [==============================] - 0s 2ms/step - loss: 0.5840 - accuracy: 0.7725 - val_loss: 0.5893 - val_accuracy: 0.7725\n",
      "Epoch 8/50\n",
      "195/195 [==============================] - 0s 2ms/step - loss: 0.5767 - accuracy: 0.7742 - val_loss: 0.5655 - val_accuracy: 0.7751\n",
      "Epoch 9/50\n",
      "195/195 [==============================] - 0s 2ms/step - loss: 0.5667 - accuracy: 0.7743 - val_loss: 0.5361 - val_accuracy: 0.7853\n",
      "Epoch 10/50\n",
      "195/195 [==============================] - 0s 2ms/step - loss: 0.5615 - accuracy: 0.7770 - val_loss: 0.5293 - val_accuracy: 0.7886\n",
      "Epoch 11/50\n",
      "195/195 [==============================] - 0s 2ms/step - loss: 0.5593 - accuracy: 0.7793 - val_loss: 0.6239 - val_accuracy: 0.7108\n",
      "Epoch 12/50\n",
      "195/195 [==============================] - 0s 2ms/step - loss: 0.5469 - accuracy: 0.7737 - val_loss: 0.5196 - val_accuracy: 0.7905\n",
      "Epoch 13/50\n",
      "195/195 [==============================] - 0s 2ms/step - loss: 0.5412 - accuracy: 0.7793 - val_loss: 0.5624 - val_accuracy: 0.7654\n",
      "Epoch 14/50\n",
      "195/195 [==============================] - 0s 2ms/step - loss: 0.5359 - accuracy: 0.7770 - val_loss: 0.5152 - val_accuracy: 0.7841\n",
      "Epoch 15/50\n",
      "195/195 [==============================] - 0s 2ms/step - loss: 0.5390 - accuracy: 0.7695 - val_loss: 0.6197 - val_accuracy: 0.7333\n",
      "Epoch 16/50\n",
      "195/195 [==============================] - 0s 2ms/step - loss: 0.5319 - accuracy: 0.7727 - val_loss: 0.5364 - val_accuracy: 0.7661\n",
      "Epoch 17/50\n",
      "195/195 [==============================] - 0s 2ms/step - loss: 0.5277 - accuracy: 0.7740 - val_loss: 0.6246 - val_accuracy: 0.6787\n",
      "Epoch 18/50\n",
      "195/195 [==============================] - 0s 2ms/step - loss: 0.5205 - accuracy: 0.7767 - val_loss: 0.4973 - val_accuracy: 0.7924\n",
      "Epoch 19/50\n",
      "195/195 [==============================] - 0s 2ms/step - loss: 0.5187 - accuracy: 0.7764 - val_loss: 0.4872 - val_accuracy: 0.7995\n",
      "Epoch 20/50\n",
      "195/195 [==============================] - 0s 2ms/step - loss: 0.5163 - accuracy: 0.7798 - val_loss: 0.4921 - val_accuracy: 0.7918\n",
      "Epoch 21/50\n",
      "195/195 [==============================] - 0s 2ms/step - loss: 0.5193 - accuracy: 0.7758 - val_loss: 0.5783 - val_accuracy: 0.7140\n",
      "Epoch 22/50\n",
      "195/195 [==============================] - 0s 2ms/step - loss: 0.5153 - accuracy: 0.7742 - val_loss: 0.5262 - val_accuracy: 0.7641\n",
      "Epoch 23/50\n",
      "195/195 [==============================] - 0s 2ms/step - loss: 0.5129 - accuracy: 0.7787 - val_loss: 0.4953 - val_accuracy: 0.7866\n",
      "Epoch 24/50\n",
      "195/195 [==============================] - 0s 2ms/step - loss: 0.5072 - accuracy: 0.7782 - val_loss: 0.6058 - val_accuracy: 0.7371\n",
      "Epoch 25/50\n",
      "195/195 [==============================] - 0s 2ms/step - loss: 0.5179 - accuracy: 0.7758 - val_loss: 0.4793 - val_accuracy: 0.7963\n",
      "Epoch 26/50\n",
      "195/195 [==============================] - 0s 2ms/step - loss: 0.5099 - accuracy: 0.7780 - val_loss: 0.5008 - val_accuracy: 0.7757\n",
      "Epoch 27/50\n",
      "195/195 [==============================] - 0s 2ms/step - loss: 0.5087 - accuracy: 0.7737 - val_loss: 0.5200 - val_accuracy: 0.7654\n",
      "Epoch 28/50\n",
      "195/195 [==============================] - 0s 2ms/step - loss: 0.5136 - accuracy: 0.7790 - val_loss: 0.4882 - val_accuracy: 0.7828\n",
      "Epoch 29/50\n",
      "195/195 [==============================] - 0s 2ms/step - loss: 0.5087 - accuracy: 0.7725 - val_loss: 0.4756 - val_accuracy: 0.7995\n",
      "Epoch 30/50\n",
      "195/195 [==============================] - 0s 2ms/step - loss: 0.5013 - accuracy: 0.7730 - val_loss: 0.4747 - val_accuracy: 0.7963\n",
      "Epoch 31/50\n",
      "195/195 [==============================] - 0s 2ms/step - loss: 0.4997 - accuracy: 0.7791 - val_loss: 0.4947 - val_accuracy: 0.7796\n",
      "Epoch 32/50\n",
      "195/195 [==============================] - 0s 2ms/step - loss: 0.5058 - accuracy: 0.7729 - val_loss: 0.5109 - val_accuracy: 0.7731\n",
      "Epoch 33/50\n",
      "195/195 [==============================] - 0s 2ms/step - loss: 0.4963 - accuracy: 0.7849 - val_loss: 0.4777 - val_accuracy: 0.7950\n",
      "Epoch 34/50\n",
      "195/195 [==============================] - 0s 2ms/step - loss: 0.5030 - accuracy: 0.7766 - val_loss: 0.8183 - val_accuracy: 0.5302\n",
      "Epoch 35/50\n",
      "195/195 [==============================] - 0s 2ms/step - loss: 0.4937 - accuracy: 0.7783 - val_loss: 0.4901 - val_accuracy: 0.7744\n",
      "Epoch 36/50\n",
      "195/195 [==============================] - 0s 2ms/step - loss: 0.4968 - accuracy: 0.7824 - val_loss: 0.5326 - val_accuracy: 0.7384\n",
      "Epoch 37/50\n",
      "195/195 [==============================] - 0s 2ms/step - loss: 0.4987 - accuracy: 0.7788 - val_loss: 0.4748 - val_accuracy: 0.7943\n",
      "Epoch 38/50\n",
      "195/195 [==============================] - 0s 2ms/step - loss: 0.5006 - accuracy: 0.7767 - val_loss: 0.4960 - val_accuracy: 0.7725\n",
      "Epoch 39/50\n",
      "195/195 [==============================] - 0s 2ms/step - loss: 0.4974 - accuracy: 0.7799 - val_loss: 0.5046 - val_accuracy: 0.7751\n",
      "Epoch 40/50\n",
      "195/195 [==============================] - 0s 2ms/step - loss: 0.4928 - accuracy: 0.7775 - val_loss: 0.7179 - val_accuracy: 0.5925\n",
      "Epoch 41/50\n",
      "195/195 [==============================] - 0s 2ms/step - loss: 0.4922 - accuracy: 0.7809 - val_loss: 0.5172 - val_accuracy: 0.7667\n",
      "Epoch 42/50\n",
      "195/195 [==============================] - 0s 2ms/step - loss: 0.5014 - accuracy: 0.7729 - val_loss: 0.4661 - val_accuracy: 0.7976\n",
      "Epoch 43/50\n",
      "195/195 [==============================] - 0s 2ms/step - loss: 0.4956 - accuracy: 0.7793 - val_loss: 0.5044 - val_accuracy: 0.7738\n",
      "Epoch 44/50\n",
      "195/195 [==============================] - 0s 2ms/step - loss: 0.4906 - accuracy: 0.7811 - val_loss: 0.4648 - val_accuracy: 0.7982\n",
      "Epoch 45/50\n",
      "195/195 [==============================] - 0s 2ms/step - loss: 0.4941 - accuracy: 0.7777 - val_loss: 0.4635 - val_accuracy: 0.7950\n",
      "Epoch 46/50\n",
      "195/195 [==============================] - 0s 2ms/step - loss: 0.4887 - accuracy: 0.7865 - val_loss: 0.5573 - val_accuracy: 0.7307\n",
      "Epoch 47/50\n",
      "195/195 [==============================] - 0s 2ms/step - loss: 0.4968 - accuracy: 0.7766 - val_loss: 0.5611 - val_accuracy: 0.7397\n",
      "Epoch 48/50\n",
      "195/195 [==============================] - 0s 2ms/step - loss: 0.4962 - accuracy: 0.7764 - val_loss: 0.4729 - val_accuracy: 0.7886\n",
      "Epoch 49/50\n",
      "195/195 [==============================] - 0s 2ms/step - loss: 0.4923 - accuracy: 0.7770 - val_loss: 0.5036 - val_accuracy: 0.7738\n",
      "Epoch 50/50\n",
      "195/195 [==============================] - 0s 2ms/step - loss: 0.4941 - accuracy: 0.7790 - val_loss: 0.4560 - val_accuracy: 0.7988\n"
     ]
    }
   ],
   "source": [
    "history1 = model.fit(X_train, y_train, epochs=50, batch_size=32, validation_split=0.2, verbose=1)\n"
   ]
  },
  {
   "cell_type": "code",
   "execution_count": 98,
   "id": "ed3fe7c7",
   "metadata": {},
   "outputs": [
    {
     "name": "stdout",
     "output_type": "stream",
     "text": [
      "61/61 [==============================] - 0s 984us/step\n"
     ]
    }
   ],
   "source": [
    "y_pred = model.predict(X_test)\n",
    "y_pred_binary = (y_pred > 0.5).astype(int)"
   ]
  },
  {
   "cell_type": "code",
   "execution_count": 99,
   "id": "e4520056",
   "metadata": {},
   "outputs": [
    {
     "name": "stdout",
     "output_type": "stream",
     "text": [
      "Accuracy: 0.7892030848329049\n",
      "Precision: 0.7578268876611418\n",
      "Recall: 0.8484536082474227\n",
      "F1-score: 0.8005836575875487\n"
     ]
    }
   ],
   "source": [
    "accuracy = accuracy_score(y_test, y_pred_binary)\n",
    "precision = precision_score(y_test, y_pred_binary)\n",
    "recall = recall_score(y_test, y_pred_binary)\n",
    "f1 = f1_score(y_test, y_pred_binary)\n",
    "\n",
    "print(\"Accuracy:\", accuracy)\n",
    "print(\"Precision:\", precision)\n",
    "print(\"Recall:\", recall)\n",
    "print(\"F1-score:\", f1)"
   ]
  },
  {
   "cell_type": "code",
   "execution_count": 101,
   "id": "a36af7ad",
   "metadata": {},
   "outputs": [
    {
     "data": {
      "image/png": "[encoded data removed]",
      "text/plain": [
       "<Figure size 720x432 with 1 Axes>"
      ]
     },
     "metadata": {
      "needs_background": "light"
     },
     "output_type": "display_data"
    }
   ],
   "source": [
    "plt.figure(figsize=(10, 6))\n",
    "\n",
    "# Model with L1 regularization\n",
    "plt.plot(history.history['accuracy'], label='L1, L2 Training Accuracy', linestyle='-', color='blue')\n",
    "plt.plot(history.history['val_accuracy'], label='L1, L2 Validation Accuracy', linestyle='--', color='blue')\n",
    "\n",
    "# Model with Elastic Net regularization\n",
    "plt.plot(history1.history['accuracy'], label='Elastic Net Training Accuracy', linestyle='-', color='green')\n",
    "plt.plot(history1.history['val_accuracy'], label='Elastic Net Validation Accuracy', linestyle='--', color='green')\n",
    "\n",
    "plt.title('Comparison of Learning Curves for Different Regularization Techniques')\n",
    "plt.xlabel('Epoch')\n",
    "plt.ylabel('Accuracy')\n",
    "plt.legend()\n",
    "plt.grid(True)\n",
    "plt.show()"
   ]
  },
  {
   "cell_type": "code",
   "execution_count": null,
   "id": "3c4652ea",
   "metadata": {},
   "outputs": [],
   "source": []
  }
 ],
 "metadata": {
  "kernelspec": {
   "display_name": "Python 3",
   "language": "python",
   "name": "python3"
  },
  "language_info": {
   "codemirror_mode": {
    "name": "ipython",
    "version": 3
   },
   "file_extension": ".py",
   "mimetype": "text/x-python",
   "name": "python",
   "nbconvert_exporter": "python",
   "pygments_lexer": "ipython3",
   "version": "3.8.8"
  }
 },
 "nbformat": 4,
 "nbformat_minor": 5
}
